{
  "nbformat": 4,
  "nbformat_minor": 0,
  "metadata": {
    "colab": {
      "provenance": [],
      "authorship_tag": "ABX9TyMBY4R+EuXbmpbdBQ/V1jd0",
      "include_colab_link": true
    },
    "kernelspec": {
      "name": "python3",
      "display_name": "Python 3"
    },
    "language_info": {
      "name": "python"
    }
  },
  "cells": [
    {
      "cell_type": "markdown",
      "metadata": {
        "id": "view-in-github",
        "colab_type": "text"
      },
      "source": [
        "<a href=\"https://colab.research.google.com/github/mariajaps/atividades/blob/main/lista01.ipynb\" target=\"_parent\"><img src=\"https://colab.research.google.com/assets/colab-badge.svg\" alt=\"Open In Colab\"/></a>"
      ]
    },
    {
      "cell_type": "markdown",
      "source": [
        " Faça um algoritmo que leia os valores A, B, C e imprima na tela se a soma de A + B é menor\n",
        "que C."
      ],
      "metadata": {
        "id": "kI6F8gmvUYBe"
      }
    },
    {
      "cell_type": "code",
      "source": [
        "a = int(input(\"Qual valor de A: \"))\n",
        "b = int(input(\"Qual valor de B: \"))\n",
        "c = int(input(\"Qual valor de C: \"))\n",
        "\n",
        "soma = a + b\n",
        "\n",
        "if soma < c:\n",
        "    print(\"A soma de A + B é menor que C\")\n",
        "elif soma == c:\n",
        "    print(\"A soma de A + B é igual a C\")\n",
        "else:\n",
        "  print(\"A soma de A + B é maior que C\")"
      ],
      "metadata": {
        "colab": {
          "base_uri": "https://localhost:8080/"
        },
        "id": "Uj3qa49-UY-4",
        "outputId": "0b59e859-bc6b-4076-a074-2e64f00734bf"
      },
      "execution_count": null,
      "outputs": [
        {
          "output_type": "stream",
          "name": "stdout",
          "text": [
            "Qual valor de A: 3\n",
            "Qual valor de B: 1\n",
            "Qual valor de C: 5\n",
            "A soma de A + B é menor que C\n"
          ]
        }
      ]
    },
    {
      "cell_type": "markdown",
      "source": [
        "Faça um algoritmo que leia o nome, o sexo e o estado civil de uma pessoa. Caso sexo seja “F” e\n",
        "estado civil seja “CASADA”, solicitar o tempo de casada (anos).\n"
      ],
      "metadata": {
        "id": "t0i-Q3eAX7AP"
      }
    },
    {
      "cell_type": "code",
      "source": [
        "nome = input(\"Qual seu nome: \")\n",
        "sexo = input(\"(F)eminino ou (M)asculino: \").upper()\n",
        "estadoCivil = input(\"Você é casado(a) ou Solteiro(a): \").upper()\n",
        "\n",
        "if sexo == 'F' and estadoCivil == 'CASADA':\n",
        "    tempoCasada = input(\"Quanto tempo de casada(anos): \")\n",
        "    print(\"Você é casada a\",tempoCasada, \"anos\")\n",
        "else:\n",
        "    print(\"Você é homem\")\n"
      ],
      "metadata": {
        "colab": {
          "base_uri": "https://localhost:8080/"
        },
        "id": "DZwfIP59X-k2",
        "outputId": "7fc6eddc-96ff-4edb-c31e-9b906c81beec"
      },
      "execution_count": null,
      "outputs": [
        {
          "output_type": "stream",
          "name": "stdout",
          "text": [
            "Qual seu nome: jose\n",
            "(F)eminino ou (M)asculino: M\n",
            "Você é casado(a) ou Solteiro(a): casado\n",
            "Você é homem\n"
          ]
        }
      ]
    },
    {
      "cell_type": "markdown",
      "source": [
        "Faça um algoritmo para receber um número qualquer e informar na tela se é par ou ímpar."
      ],
      "metadata": {
        "id": "FYX14zukdOrE"
      }
    },
    {
      "cell_type": "code",
      "source": [
        "num = int(input(\"Digite um número inteiro: \"))\n",
        "\n",
        "if num % 2 == 0:\n",
        "  print(\"Você digitou um número par\")\n",
        "else:\n",
        "    print(\"Você digitou um número impar\")\n"
      ],
      "metadata": {
        "colab": {
          "base_uri": "https://localhost:8080/"
        },
        "id": "OTGBokmudQg3",
        "outputId": "3ff3544d-b854-4601-b71b-6b7cb28fffc1"
      },
      "execution_count": null,
      "outputs": [
        {
          "output_type": "stream",
          "name": "stdout",
          "text": [
            "Digite um número inteiro: 10\n",
            "Você digitou um número par\n"
          ]
        }
      ]
    },
    {
      "cell_type": "markdown",
      "source": [
        " Faça um algoritmo que leia dois valores inteiros A e B se os valores forem iguais deverá se\n",
        "somar os dois, caso contrário multiplique A por B. Ao final de qualquer um dos cálculos deve-se\n",
        "atribuir o resultado para uma variável C e mostrar seu conteúdo na tela."
      ],
      "metadata": {
        "id": "ZqRlzAiEeJbA"
      }
    },
    {
      "cell_type": "code",
      "source": [
        "a = int(input(\"Qual valor de A: \"))\n",
        "b = int(input(\"Qual valor de B: \"))\n",
        "\n",
        "if a == b:\n",
        "    c = a + b\n",
        "    print(c)\n",
        "else:\n",
        "    c = a * b\n",
        "    print(c)"
      ],
      "metadata": {
        "colab": {
          "base_uri": "https://localhost:8080/"
        },
        "collapsed": true,
        "id": "zX4YI6BQeMvr",
        "outputId": "4b9668b1-6db1-417b-c3cd-3a2220c2b73d"
      },
      "execution_count": null,
      "outputs": [
        {
          "output_type": "stream",
          "name": "stdout",
          "text": [
            "Qual valor de A: 5\n",
            "Qual valor de B: 3\n",
            "15\n"
          ]
        }
      ]
    },
    {
      "cell_type": "markdown",
      "source": [
        " Encontrar o dobro de um número caso ele seja positivo e o seu triplo caso seja negativo,\n",
        "imprimindo o resultado"
      ],
      "metadata": {
        "id": "xf11pOs6e6EB"
      }
    },
    {
      "cell_type": "code",
      "source": [
        "num = int(input(\"Digite um número inteiro: \"))\n",
        "\n",
        "if num > 0:\n",
        "    operacao = num ** 2\n",
        "    print(\"O numero dobrado é:\", operacao)\n",
        "else:\n",
        "    operacao = num ** 3\n",
        "    print(\"O numero triplicado é: \", operacao)"
      ],
      "metadata": {
        "colab": {
          "base_uri": "https://localhost:8080/"
        },
        "collapsed": true,
        "id": "ylkAiMnVe67i",
        "outputId": "166a848b-7976-43dd-be95-c0c07582414c"
      },
      "execution_count": null,
      "outputs": [
        {
          "output_type": "stream",
          "name": "stdout",
          "text": [
            "Digite um número inteiro: -2\n",
            "O numero triplicado é:  -8\n"
          ]
        }
      ]
    },
    {
      "cell_type": "markdown",
      "source": [
        "Escreva um algoritmo que lê dois valores booleanos (lógicos) e então determina se ambos são\n",
        "VERDADEIROS ou FALSOS."
      ],
      "metadata": {
        "id": "MI55B2PIgUA6"
      }
    },
    {
      "cell_type": "code",
      "source": [
        "valor1 = (input(\"Qual valor 1: (True/False) \")).capitalize()\n",
        "valor2 = (input(\"Qual valor 2: (True/False) \")).capitalize()\n",
        "\n",
        "if valor1 == 'True' and valor2 == 'True':\n",
        "    valor1 = True\n",
        "    valor2 = True\n",
        "elif valor1 == 'False' and valor2 == 'False':\n",
        "    valor1 = False\n",
        "    valor2 = False\n",
        "elif valor1 == 'True' and valor2 == 'False':\n",
        "    valor1 = True\n",
        "    valor2 = False\n",
        "elif valor1 == 'False' and valor2 == 'True':\n",
        "    valor1 = False\n",
        "    valor2 = True\n",
        "else:\n",
        "  print(\"Invalido\")\n",
        "\n",
        "\n",
        "if valor1 and valor2:\n",
        "    print(\"Os dois são verdadeiros\")\n",
        "elif not valor1 and not valor2:\n",
        "    print(\"Os dois são falsos\")\n",
        "else:\n",
        "    print(\"Um é verdadeiro e o outro é falso\")\n"
      ],
      "metadata": {
        "colab": {
          "base_uri": "https://localhost:8080/"
        },
        "id": "JHWSknmtgWLI",
        "outputId": "40f474c3-6300-476c-d825-e2864d45261b"
      },
      "execution_count": null,
      "outputs": [
        {
          "output_type": "stream",
          "name": "stdout",
          "text": [
            "Qual valor 1: (True/False) false\n",
            "Qual valor 2: (True/False) false\n",
            "Os dois são falsos\n"
          ]
        }
      ]
    },
    {
      "cell_type": "markdown",
      "source": [
        " Faça um algoritmo que leia uma variável e some 5 caso seja par ou some 8 caso seja ímpar,\n",
        "imprimir o resultado desta operaçã"
      ],
      "metadata": {
        "id": "BMVD0U-Ck0mr"
      }
    },
    {
      "cell_type": "code",
      "source": [
        "num = int(input(\"Digite um numero: \"))\n",
        "\n",
        "if num % 2 == 0:\n",
        "    num += 5\n",
        "    print(num)\n",
        "else:\n",
        "    num += 8\n",
        "    print(num)"
      ],
      "metadata": {
        "colab": {
          "base_uri": "https://localhost:8080/"
        },
        "collapsed": true,
        "id": "vvu01bxmk1xA",
        "outputId": "7bb6c976-fc52-41d8-ba2c-98087ec97283"
      },
      "execution_count": null,
      "outputs": [
        {
          "output_type": "stream",
          "name": "stdout",
          "text": [
            "Digite um numero: 1\n",
            "9\n"
          ]
        }
      ]
    },
    {
      "cell_type": "markdown",
      "source": [
        "Escreva um algoritmo que leia três valores inteiros e diferentes e mostre-os em ordem\n",
        "decrescente."
      ],
      "metadata": {
        "id": "263nlbKLl6Jy"
      }
    },
    {
      "cell_type": "code",
      "source": [
        "a = int(input(\"Qual valor de A: \"))\n",
        "b = int(input(\"Qual valor de B: \"))\n",
        "c = int(input(\"Qual valor de C: \"))\n",
        "\n",
        "if a != b and b != c:\n",
        "    print(\"Valores validos...\")\n",
        "    numeros = [a, b, c]\n",
        "    numeros.sort()\n",
        "    numeros.reverse()\n",
        "    print(numeros)\n",
        "else:\n",
        "    print(\"Os valores inseridos devem ser diferentes\")"
      ],
      "metadata": {
        "colab": {
          "base_uri": "https://localhost:8080/"
        },
        "collapsed": true,
        "id": "NLIcqeCJl7ZG",
        "outputId": "850f2b0c-a0d0-4ec5-c906-64a989f53902"
      },
      "execution_count": null,
      "outputs": [
        {
          "output_type": "stream",
          "name": "stdout",
          "text": [
            "Qual valor de A: 4\n",
            "Qual valor de B: 4\n",
            "Qual valor de C: 4\n",
            "Os valores inseridos devem ser diferentes\n"
          ]
        }
      ]
    },
    {
      "cell_type": "markdown",
      "source": [
        " Tendo como dados de entrada a altura e o sexo de uma pessoa, construa um algoritmo que\n",
        "calcule seu peso ideal, utilizando as seguintes fórmulas:\n",
        "● para homens: (72.7 * h) – 58;\n",
        "● para mulheres: (62.1 * h) – 44.7."
      ],
      "metadata": {
        "id": "NWTtgHmOpmmP"
      }
    },
    {
      "cell_type": "code",
      "source": [
        "altura = float(input(\"Qual sua altura: \"))\n",
        "sexo = (input(\"Qual seu gênero: (F/M) \")).upper()\n",
        "\n",
        "if sexo == 'F':\n",
        "    pesoIdeal = (62.1 * altura) - 44.7\n",
        "    print(\"Seu peso ideal é\",pesoIdeal)\n",
        "else:\n",
        "  pesoIdeal =  (72.7 * altura) - 58\n",
        "  print(\"Seu peso ideal é\",pesoIdeal)\n",
        "\n"
      ],
      "metadata": {
        "colab": {
          "base_uri": "https://localhost:8080/"
        },
        "collapsed": true,
        "id": "0gvBoHUjpqam",
        "outputId": "335be857-61c3-459c-925b-48d2b4e7cf30"
      },
      "execution_count": null,
      "outputs": [
        {
          "output_type": "stream",
          "name": "stdout",
          "text": [
            "Qual sua altura: 1.60\n",
            "Qual seu gênero: (F/M) F\n",
            "Seu peso ideal é 54.66000000000001\n"
          ]
        }
      ]
    },
    {
      "cell_type": "markdown",
      "source": [
        "O IMC – Indice de Massa Corporal é um critério da Organização Mundial de Saúde para dar\n",
        "umaindicação sobre a condição de peso de uma pessoa adulta. A fórmula é IMC = peso / ( altura )2\n",
        "\n",
        "Elabore um algoritmo que leia o peso e a altura de um adulto e mostre sua condição de acordo\n",
        "com a tabela abaixo.\n",
        "IMC em adultos Condição\n",
        "Abaixo de 18,5 Abaixo do peso\n",
        "Entre 18,5 e 25 Peso normal\n",
        "Entre 25 e 30 Acima do peso\n",
        "Acima de 30 obeso"
      ],
      "metadata": {
        "id": "On6llVi9rvwC"
      }
    },
    {
      "cell_type": "code",
      "source": [
        "peso = float(input(\"Qual seu peso: \"))\n",
        "altura = float(input(\"Qual sua altura: \"))\n",
        "imc = peso / (altura)**2\n",
        "print(imc)\n",
        "\n",
        "if imc < 18.5:\n",
        "    print(\"Você está abaixo do peso\")\n",
        "elif 18.5 < imc < 25:\n",
        "    print(\"Você está no peso normal\")\n",
        "elif 25 < imc < 30:\n",
        "    print(\"Você está acima do peso\")\n",
        "elif imc > 30:\n",
        "    print(\"Você está em estado de obesidade \")\n",
        "\n",
        "\n",
        "\n",
        "\n",
        "\n"
      ],
      "metadata": {
        "colab": {
          "base_uri": "https://localhost:8080/"
        },
        "collapsed": true,
        "id": "SwWH0hQRrwas",
        "outputId": "4f222b75-35e0-46f9-c6d0-479f0aa2015b"
      },
      "execution_count": null,
      "outputs": [
        {
          "output_type": "stream",
          "name": "stdout",
          "text": [
            "Qual seu peso: 69.5\n",
            "Qual sua altura: 1.78\n",
            "21.93536169675546\n",
            "Você está no peso normal\n"
          ]
        }
      ]
    }
  ]
}