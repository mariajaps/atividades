{
  "nbformat": 4,
  "nbformat_minor": 0,
  "metadata": {
    "colab": {
      "provenance": [],
      "authorship_tag": "ABX9TyOv0dQdaLzqF4UduPC74jB4",
      "include_colab_link": true
    },
    "kernelspec": {
      "name": "python3",
      "display_name": "Python 3"
    },
    "language_info": {
      "name": "python"
    }
  },
  "cells": [
    {
      "cell_type": "markdown",
      "metadata": {
        "id": "view-in-github",
        "colab_type": "text"
      },
      "source": [
        "<a href=\"https://colab.research.google.com/github/mariajaps/atividades/blob/main/lista02.ipynb\" target=\"_parent\"><img src=\"https://colab.research.google.com/assets/colab-badge.svg\" alt=\"Open In Colab\"/></a>"
      ]
    },
    {
      "cell_type": "code",
      "execution_count": null,
      "metadata": {
        "id": "um-UxsMPR3lq"
      },
      "outputs": [],
      "source": []
    },
    {
      "cell_type": "markdown",
      "source": [
        "Desenvolver um algoritmo que efetue a soma de todos os números ímpares que são múltiplos de três e que se encontram no conjunto dos números de 1 até 500."
      ],
      "metadata": {
        "id": "N3fZYBAsR6_4"
      }
    },
    {
      "cell_type": "code",
      "source": [
        "def soma_impares():\n",
        "    soma = 0\n",
        "    for numero in range(1, 501):\n",
        "      if numero % 2 != 0 and numero % 3 == 0:\n",
        "        soma += numero\n",
        "    return soma\n",
        "resultado = soma_impares()\n",
        "print(\"A soma de todos os numeros impares multiplos de 3 de 1 a 500: \",resultado)"
      ],
      "metadata": {
        "id": "8IZw4hLyR961"
      },
      "execution_count": null,
      "outputs": []
    },
    {
      "cell_type": "markdown",
      "source": [
        "Desenvolver um algoritmo que leia a altura de 15 pessoas. Este programa deverá calcular e mostrar : a. A menor altura do grupo; b. A maior altura do grupo;"
      ],
      "metadata": {
        "id": "I0NbLHLFSAHe"
      }
    },
    {
      "cell_type": "code",
      "source": [
        "def altura_pessoas():\n",
        "    alturas = []\n",
        "\n",
        "    for i in range(15):\n",
        "        altura = float(input(f\"Digite a altura da pessoa {i + 1}: \"))\n",
        "        alturas.append(altura)\n",
        "\n",
        "    menor_altura = min(alturas)\n",
        "    maior_altura = max(alturas)\n",
        "\n",
        "    print(f\"A menor altura do grupo é: {menor_altura:.2f} metros\")\n",
        "    print(f\"A maior altura do grupo é: {maior_altura:.2f} metros\")\n",
        "\n",
        "altura_pessoas()"
      ],
      "metadata": {
        "id": "-o1mp2RISEVd"
      },
      "execution_count": null,
      "outputs": []
    },
    {
      "cell_type": "markdown",
      "source": [
        "3) Desenvolver um algoritmo que leia um número não determinado de valores e calcule e escreva a média aritmética dos valores lidos, a quantidade de valores positivos, a quantidade de valores negativos e o percentual de valores negativos e positivos."
      ],
      "metadata": {
        "id": "T_jTDNzWSFN1"
      }
    },
    {
      "cell_type": "code",
      "source": [
        "def calcular_media_e_percentual():\n",
        "    valores = []\n",
        "    positivos = 0\n",
        "    negativos = 0\n",
        "\n",
        "    while True:\n",
        "        valor = input(\"Digite um valor (ou 'sair' para encerrar): \")\n",
        "        if valor.lower() == 'sair':\n",
        "            break\n",
        "        valor = float(valor)\n",
        "        valores.append(valor)\n",
        "\n",
        "        if valor > 0:\n",
        "            positivos += 1\n",
        "        elif valor < 0:\n",
        "            negativos += 1\n",
        "\n",
        "    if valores:\n",
        "        media = sum(valores) / len(valores)\n",
        "        total = len(valores)\n",
        "        perc_positivos = (positivos / total) * 100\n",
        "        perc_negativos = (negativos / total) * 100\n",
        "\n",
        "        print(f\"Média aritmetica: {media:.2f}\")\n",
        "        print(f\"Quantidade de valores positivos: {positivos}\")\n",
        "        print(f\"Quantidade de valores negativos: {negativos}\")\n",
        "        print(f\"Percentual de valores positivos: {perc_positivos:.2f}%\")\n",
        "        print(f\"Percentual de valores negativos: {perc_negativos:.2f}%\")\n",
        "    else:\n",
        "        print(\"Invalido, tente novamente.\")\n",
        "\n",
        "calcular_media_e_percentual()"
      ],
      "metadata": {
        "id": "_RA0_yTRSHo3"
      },
      "execution_count": null,
      "outputs": []
    },
    {
      "cell_type": "markdown",
      "source": [
        "Escrever um algoritmo que leia uma quantidade desconhecida de números e conte quantos deles estão nos seguintes intervalos: [0-25], [26-50], [51-75] e [76-100]. A entrada de dados deve terminar quando for lido um número negativo."
      ],
      "metadata": {
        "id": "oNDdiQPrSKfS"
      }
    },
    {
      "cell_type": "code",
      "source": [
        "def numeros_intervalo():\n",
        "    intervalo_0_25 = 0\n",
        "    intervalo_26_50 = 0\n",
        "    intervalo_51_75 = 0\n",
        "    intervalo_76_100 = 0\n",
        "\n",
        "    while True:\n",
        "        numero = float(input(\"Digite um número (ou um número negativo para encerrar): \"))\n",
        "        if numero < 0:\n",
        "            break\n",
        "\n",
        "        if 0 <= numero <= 25:\n",
        "            intervalo_0_25 += 1\n",
        "        elif 26 <= numero <= 50:\n",
        "            intervalo_26_50 += 1\n",
        "        elif 51 <= numero <= 75:\n",
        "            intervalo_51_75 += 1\n",
        "        elif 76 <= numero <= 100:\n",
        "            intervalo_76_100 += 1\n",
        "\n",
        "    print(f\"Quantidade de números:\\n[0-25]: {intervalo_0_25}\\n[26-50]: {intervalo_26_50}\\n[51-75]: {intervalo_51_75}\\n[76-100]: {intervalo_76_100}\")\n",
        "\n",
        "numeros_intervalo()"
      ],
      "metadata": {
        "id": "2Joowop4SOSs"
      },
      "execution_count": null,
      "outputs": []
    },
    {
      "cell_type": "markdown",
      "source": [
        "5) Faça um algoritmo estruturado que leia uma quantidade não determinada de números positivos. Calcule a quantidade de números pares e ímpares, a média de valores pares e a média geral dos números lidos. O número que encerrará a leitura será zero."
      ],
      "metadata": {
        "id": "gtswJBtxSRUG"
      }
    },
    {
      "cell_type": "code",
      "source": [
        "def main():\n",
        "    total_numeros = 0\n",
        "    soma_total = 0\n",
        "    soma_pares = 0\n",
        "    qtd_pares = 0\n",
        "    qtd_impares = 0\n",
        "\n",
        "    while True:\n",
        "        numero = int(input(\"Digite um número positivo (ou 0 para encerrar): \"))\n",
        "\n",
        "        if numero == 0:\n",
        "            break\n",
        "\n",
        "        total_numeros += 1\n",
        "        soma_total += numero\n",
        "\n",
        "        if numero % 2 == 0:\n",
        "            qtd_pares += 1\n",
        "            soma_pares += numero\n",
        "        else:\n",
        "            qtd_impares += 1\n",
        "\n",
        "    if qtd_pares > 0:\n",
        "        media_pares = soma_pares / qtd_pares\n",
        "    else:\n",
        "        media_pares = 0\n",
        "\n",
        "    if total_numeros > 0:\n",
        "        media_geral = soma_total / total_numeros\n",
        "    else:\n",
        "        media_geral = 0\n",
        "\n",
        "    print(\"\\nResultados:\")\n",
        "    print(f\"Quantidade de números pares: {qtd_pares}\")\n",
        "    print(f\"Quantidade de números ímpares: {qtd_impares}\")\n",
        "    print(f\"Média dos valores pares: {media_pares:.2f}\")\n",
        "    print(f\"Média geral dos números: {media_geral:.2f}\")\n",
        "\n",
        "main()"
      ],
      "metadata": {
        "id": "EzuFbGbZSWdQ"
      },
      "execution_count": null,
      "outputs": []
    },
    {
      "cell_type": "markdown",
      "source": [
        "6) Escrever um algoritmo que gera e escreve os números ímpares entre 100 e 200."
      ],
      "metadata": {
        "id": "T1iMYv7rSXXD"
      }
    },
    {
      "cell_type": "code",
      "source": [
        "def numeros_impares():\n",
        "    for numero in range(101, 200, 2):\n",
        "        print(numero)\n",
        "\n",
        "numeros_impares()"
      ],
      "metadata": {
        "id": "WebegNwKSb4K"
      },
      "execution_count": null,
      "outputs": []
    },
    {
      "cell_type": "markdown",
      "source": [
        "7) Escrever um algoritmo que leia um valor para uma variável N de 1 a 10 e calcule a tabuada de N. Mostre a tabuada na forma: 0 x N = 0, 1 x N = 1N, 2 x N = 2N, ..., 10 x N = 10N."
      ],
      "metadata": {
        "id": "NdLo5eGtSde4"
      }
    },
    {
      "cell_type": "code",
      "source": [
        "def tabuada():\n",
        "    N = int(input(\"Digite um valor para N (entre 1 e 10): \"))\n",
        "\n",
        "    if 1 <= N <= 10:\n",
        "        for i in range(11):\n",
        "            print(f\"{i} x {N} = {i * N}\")\n",
        "    else:\n",
        "        print(\"O valor deve estar entre 1 e 10.\")\n",
        "\n",
        "tabuada()"
      ],
      "metadata": {
        "id": "-P-SOOMyShS-"
      },
      "execution_count": null,
      "outputs": []
    },
    {
      "cell_type": "markdown",
      "source": [
        "8) Escreva um algoritmo que leia um valor inicial A e uma razão R e imprima uma seqüência em P.A. contendo 10 valores."
      ],
      "metadata": {
        "id": "0X29RmArSkAl"
      }
    },
    {
      "cell_type": "code",
      "source": [
        "def progressao_aritmetica():\n",
        "    A = int(input(\"Digite o valor inicial A: \"))\n",
        "    R = int(input(\"Digite a razão R: \"))\n",
        "\n",
        "    for i in range(10):\n",
        "        termo = A + i * R\n",
        "        print(termo)\n",
        "\n",
        "progressao_aritmetica()"
      ],
      "metadata": {
        "id": "P7Y_GF9vSnYk"
      },
      "execution_count": null,
      "outputs": []
    },
    {
      "cell_type": "markdown",
      "source": [
        "9) Escreva um algoritmo que leia um valor inicial A e uma razão R e imprima uma seqüência em P.G. contendo 10 valores."
      ],
      "metadata": {
        "id": "SPLrwg3tSoC7"
      }
    },
    {
      "cell_type": "code",
      "source": [
        "def progressao_geometrica():\n",
        "    A = int(input(\"Digite o valor inicial A: \"))\n",
        "    R = int(input(\"Digite a razão R: \"))\n",
        "\n",
        "    for i in range(10):\n",
        "        termo = A * (R ** i)\n",
        "        print(termo)\n",
        "\n",
        "progressao_geometrica()"
      ],
      "metadata": {
        "id": "LTepf1GBSr0c"
      },
      "execution_count": null,
      "outputs": []
    },
    {
      "cell_type": "markdown",
      "source": [
        "10) Escreva um algoritmo que leia um valor inicial A e imprima a seqüência de valores do cálculo de A! e o seu resultado. Ex: 5! = 5 X 4 X 3 X 2 X 1 = 120"
      ],
      "metadata": {
        "id": "Ca_Xcf5-SsfA"
      }
    },
    {
      "cell_type": "code",
      "source": [
        "def calcular():\n",
        "    A = int(input(\"Digite um valor para calcular o fatorial: \"))\n",
        "\n",
        "    fatorial = 1\n",
        "    sequencia = []\n",
        "\n",
        "    for i in range(A, 0, -1):\n",
        "        fatorial *= i\n",
        "        sequencia.append(str(i))\n",
        "\n",
        "    sequencia_str = \" x \".join(sequencia)\n",
        "    print(f\"{A}! = {sequencia_str} = {fatorial}\")\n",
        "\n",
        "calcular()\n"
      ],
      "metadata": {
        "id": "1amIZZYLSv9c"
      },
      "execution_count": null,
      "outputs": []
    }
  ]
}